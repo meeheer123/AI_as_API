{
 "cells": [
  {
   "cell_type": "code",
   "execution_count": 51,
   "id": "4088e339-0bac-47f1-9aac-12ccea940f21",
   "metadata": {},
   "outputs": [],
   "source": [
    "import pathlib\n",
    "\n",
    "BASE_DIR = pathlib.Path().resolve().parent\n",
    "DATASET_DIR = BASE_DIR / \"datasets\"\n",
    "ZIPS_DIR = DATASET_DIR / 'zips'\n",
    "ZIPS_DIR.mkdir(exist_ok=True, parents=True)\n",
    "\n",
    "SPAM_SMS_ZIP_PATH = ZIPS_DIR / \"sms-spam-dataset.zip\"\n",
    "SPAM_YOUTUBE_ZIP_PATH = ZIPS_DIR / \"youtube-spam-dataset.zip\""
   ]
  },
  {
   "cell_type": "code",
   "execution_count": 52,
   "id": "a41145b2-456b-4357-9fda-48451435c461",
   "metadata": {},
   "outputs": [],
   "source": [
    "SMS_SPAM_ZIP = \"https://archive.ics.uci.edu/ml/machine-learning-databases/00228/smsspamcollection.zip\"\n",
    "YOUTUBE_SPAM_ZIP = \"https://archive.ics.uci.edu/ml/machine-learning-databases/00380/YouTube-Spam-Collection-v1.zip\""
   ]
  },
  {
   "cell_type": "code",
   "execution_count": 54,
   "id": "0affae14-7de3-40d7-9e08-928692020e48",
   "metadata": {},
   "outputs": [
    {
     "name": "stderr",
     "output_type": "stream",
     "text": [
      "  % Total    % Received % Xferd  Average Speed   Time    Time     Time  Current\n",
      "                                 Dload  Upload   Total   Spent    Left  Speed\n",
      "\n",
      "  0     0    0     0    0     0      0      0 --:--:-- --:--:-- --:--:--     0\n",
      "  0     0    0     0    0     0      0      0 --:--:-- --:--:-- --:--:--     0\n",
      "100  151k    0  151k    0     0  89296      0 --:--:--  0:00:01 --:--:-- 89512\n",
      "100  198k    0  198k    0     0   112k      0 --:--:--  0:00:01 --:--:--  112k\n",
      "  % Total    % Received % Xferd  Average Speed   Time    Time     Time  Current\n",
      "                                 Dload  Upload   Total   Spent    Left  Speed\n",
      "\n",
      "  0     0    0     0    0     0      0      0 --:--:-- --:--:-- --:--:--     0\n",
      "  0     0    0     0    0     0      0      0 --:--:-- --:--:-- --:--:--     0\n",
      "100  151k    0  151k    0     0  88424      0 --:--:--  0:00:01 --:--:-- 88696\n",
      "100  159k    0  159k    0     0  92906      0 --:--:--  0:00:01 --:--:-- 93200\n"
     ]
    }
   ],
   "source": [
    "!curl $SMS_SPAM_ZIP -o $SPAM_SMS_ZIP_PATH\n",
    "    \n",
    "    \n",
    "!curl $YOUTUBE_SPAM_ZIP -o $SPAM_YOUTUBE_ZIP_PATH\n",
    "        \n",
    "        "
   ]
  },
  {
   "cell_type": "code",
   "execution_count": null,
   "id": "8756d0cc-b7bf-4265-b1c1-df6d5cafa271",
   "metadata": {},
   "outputs": [],
   "source": []
  }
 ],
 "metadata": {
  "kernelspec": {
   "display_name": "Python 3 (ipykernel)",
   "language": "python",
   "name": "python3"
  },
  "language_info": {
   "codemirror_mode": {
    "name": "ipython",
    "version": 3
   },
   "file_extension": ".py",
   "mimetype": "text/x-python",
   "name": "python",
   "nbconvert_exporter": "python",
   "pygments_lexer": "ipython3",
   "version": "3.12.4"
  }
 },
 "nbformat": 4,
 "nbformat_minor": 5
}
