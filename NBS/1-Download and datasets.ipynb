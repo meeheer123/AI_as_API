{
 "cells": [
  {
   "cell_type": "code",
   "execution_count": 62,
   "id": "4088e339-0bac-47f1-9aac-12ccea940f21",
   "metadata": {},
   "outputs": [
    {
     "ename": "SyntaxError",
     "evalue": "invalid syntax (841725625.py, line 2)",
     "output_type": "error",
     "traceback": [
      "\u001b[1;36m  Cell \u001b[1;32mIn[62], line 2\u001b[1;36m\u001b[0m\n\u001b[1;33m    conda install git\u001b[0m\n\u001b[1;37m          ^\u001b[0m\n\u001b[1;31mSyntaxError\u001b[0m\u001b[1;31m:\u001b[0m invalid syntax\n"
     ]
    }
   ],
   "source": [
    "import pathlib\n",
    "\n",
    "BASE_DIR = pathlib.Path().resolve().parent\n",
    "DATASET_DIR = BASE_DIR / \"datasets\"\n",
    "ZIPS_DIR = DATASET_DIR / 'zips'\n",
    "ZIPS_DIR.mkdir(exist_ok=True, parents=True)\n",
    "\n",
    "SPAM_SMS_ZIP_PATH = ZIPS_DIR / \"sms-spam-dataset.zip\"\n",
    "SPAM_YOUTUBE_ZIP_PATH = ZIPS_DIR / \"youtube-spam-dataset.zip\""
   ]
  },
  {
   "cell_type": "code",
   "execution_count": 56,
   "id": "a41145b2-456b-4357-9fda-48451435c461",
   "metadata": {},
   "outputs": [],
   "source": [
    "SMS_SPAM_ZIP = \"https://archive.ics.uci.edu/ml/machine-learning-databases/00228/smsspamcollection.zip\"\n",
    "YOUTUBE_SPAM_ZIP = \"https://archive.ics.uci.edu/ml/machine-learning-databases/00380/YouTube-Spam-Collection-v1.zip\""
   ]
  },
  {
   "cell_type": "code",
   "execution_count": 57,
   "id": "0affae14-7de3-40d7-9e08-928692020e48",
   "metadata": {},
   "outputs": [
    {
     "name": "stderr",
     "output_type": "stream",
     "text": [
      "  % Total    % Received % Xferd  Average Speed   Time    Time     Time  Current\n",
      "                                 Dload  Upload   Total   Spent    Left  Speed\n",
      "\n",
      "  0     0    0     0    0     0      0      0 --:--:-- --:--:-- --:--:--     0\n",
      "  0     0    0     0    0     0      0      0 --:--:-- --:--:-- --:--:--     0\n",
      "100 40885    0 40885    0     0  31784      0 --:--:--  0:00:01 --:--:-- 31891\n",
      "100  198k    0  198k    0     0   109k      0 --:--:--  0:00:01 --:--:--  109k\n",
      "  % Total    % Received % Xferd  Average Speed   Time    Time     Time  Current\n",
      "                                 Dload  Upload   Total   Spent    Left  Speed\n",
      "\n",
      "  0     0    0     0    0     0      0      0 --:--:-- --:--:-- --:--:--     0\n",
      "  0     0    0     0    0     0      0      0 --:--:-- --:--:-- --:--:--     0\n",
      "100 40885    0 40885    0     0  31939      0 --:--:--  0:00:01 --:--:-- 32117\n",
      "100  159k    0  159k    0     0  91094      0 --:--:--  0:00:01 --:--:-- 91429\n"
     ]
    }
   ],
   "source": [
    "!curl $SMS_SPAM_ZIP -o $SPAM_SMS_ZIP_PATH\n",
    "    \n",
    "    \n",
    "!curl $YOUTUBE_SPAM_ZIP -o $SPAM_YOUTUBE_ZIP_PATH\n",
    "        \n",
    "        "
   ]
  },
  {
   "cell_type": "code",
   "execution_count": 58,
   "id": "8756d0cc-b7bf-4265-b1c1-df6d5cafa271",
   "metadata": {},
   "outputs": [],
   "source": [
    "SPAM_CLASSIFIER_DIR = DATASET_DIR / \"spam-classifier\"\n",
    "SMS_SPAM_DIR = SPAM_CLASSIFIER_DIR / \"spam-sms\"\n",
    "YOUTUBE_SPAM_DIR = SPAM_CLASSIFIER_DIR / \"youtube-spam\""
   ]
  },
  {
   "cell_type": "code",
   "execution_count": 59,
   "id": "c2f509be-9ddf-4fa5-90b8-5474233be3cb",
   "metadata": {},
   "outputs": [],
   "source": [
    "SMS_SPAM_DIR.mkdir(exist_ok=True, parents=True)\n",
    "YOUTUBE_SPAM_DIR.mkdir(exist_ok=True, parents=True)"
   ]
  },
  {
   "cell_type": "code",
   "execution_count": 61,
   "id": "ad970298-5d66-4d6c-b36e-12bf36f0cb9d",
   "metadata": {},
   "outputs": [
    {
     "name": "stderr",
     "output_type": "stream",
     "text": [
      "'unzip' is not recognized as an internal or external command,\n",
      "operable program or batch file.\n",
      "'unzip' is not recognized as an internal or external command,\n",
      "operable program or batch file.\n"
     ]
    }
   ],
   "source": [
    "!unzip -o $SPAM_SMS_ZIP_PATH -d $SMS_SPAM_DIR\n",
    "!unzip -o $SPAM_YOUTUBE_ZIP_PATH -d $YOUTUBE_SPAM_DIR"
   ]
  },
  {
   "cell_type": "code",
   "execution_count": null,
   "id": "d3e23b60-9a9a-412e-93a1-1973a03fc5cb",
   "metadata": {},
   "outputs": [],
   "source": []
  }
 ],
 "metadata": {
  "kernelspec": {
   "display_name": "Python 3 (ipykernel)",
   "language": "python",
   "name": "python3"
  },
  "language_info": {
   "codemirror_mode": {
    "name": "ipython",
    "version": 3
   },
   "file_extension": ".py",
   "mimetype": "text/x-python",
   "name": "python",
   "nbconvert_exporter": "python",
   "pygments_lexer": "ipython3",
   "version": "3.12.4"
  }
 },
 "nbformat": 4,
 "nbformat_minor": 5
}
